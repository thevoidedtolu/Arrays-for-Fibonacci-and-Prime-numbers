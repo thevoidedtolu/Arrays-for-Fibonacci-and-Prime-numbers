{
 "cells": [
  {
   "cell_type": "code",
   "execution_count": 1,
   "id": "2a13d1c4-a37a-4429-9cfe-66a5a9b4ab15",
   "metadata": {},
   "outputs": [
    {
     "name": "stdout",
     "output_type": "stream",
     "text": [
      "[1, 2, 3, 5, 8, 13, 21, 34, 55, 89]\n"
     ]
    }
   ],
   "source": [
    "nterms = 10\n",
    "n1 = 0\n",
    "n2 = 1\n",
    "i = 0\n",
    "\n",
    "answer = []\n",
    "\n",
    "if nterms <= 0:\n",
    "    print(\"Number of terms must be greater than 1\")\n",
    "elif nterms == 1:\n",
    "    print(0, 1)\n",
    "else:\n",
    "    while i < nterms:\n",
    "        fibSeries = n1 + n2\n",
    "        n1 = n2\n",
    "        n2 = fibSeries\n",
    "        i+=1\n",
    "        answer.append(fibSeries)\n",
    "\n",
    "print(answer)"
   ]
  },
  {
   "cell_type": "code",
   "execution_count": null,
   "id": "7fa05d4e-4002-46f7-9830-1e0706496c5c",
   "metadata": {},
   "outputs": [],
   "source": []
  }
 ],
 "metadata": {
  "kernelspec": {
   "display_name": "Python 3 (ipykernel)",
   "language": "python",
   "name": "python3"
  },
  "language_info": {
   "codemirror_mode": {
    "name": "ipython",
    "version": 3
   },
   "file_extension": ".py",
   "mimetype": "text/x-python",
   "name": "python",
   "nbconvert_exporter": "python",
   "pygments_lexer": "ipython3",
   "version": "3.10.5"
  }
 },
 "nbformat": 4,
 "nbformat_minor": 5
}
